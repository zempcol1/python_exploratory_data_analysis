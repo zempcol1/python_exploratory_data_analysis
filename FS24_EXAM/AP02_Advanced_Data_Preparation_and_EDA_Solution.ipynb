{
 "cells": [
  {
   "cell_type": "markdown",
   "id": "4cf56921",
   "metadata": {},
   "source": [
    "# Arbeitspaket (AP) 2: Advanced Data Preparation & Exploratory Data Analysis (EDA)"
   ]
  },
  {
   "cell_type": "markdown",
   "id": "0f7fb22f",
   "metadata": {},
   "source": [
    "### Persönliche Angaben (bitte ergänzen)"
   ]
  },
  {
   "cell_type": "markdown",
   "id": "94d35a25",
   "metadata": {},
   "source": [
    "<table>\n",
    "  <tr>\n",
    "    <td>Vorname:</td>\n",
    "    <td></td>\n",
    "  </tr>\n",
    "  <tr>\n",
    "    <td>Nachname:</td>\n",
    "    <td></td>\n",
    "  </tr>\n",
    "  <tr>\n",
    "    <td>Immatrikulationsnummer:</td>\n",
    "    <td></td>\n",
    "  </tr>\n",
    "  <tr>\n",
    "    <td>Modul:</td>\n",
    "    <td>Data Science</td>\n",
    "  </tr>\n",
    "  <tr>\n",
    "    <td>Prüfungsdatum / Raum / Zeit:</td>\n",
    "    <td>11.11.2024 / Raum: SF O3.54 / 8:00 – 11:45</td>\n",
    "  </tr>\n",
    "  <tr>\n",
    "    <td>Erlaubte Hilfsmittel:</td>\n",
    "    <td>w.MA.XX.DS.24HS (Data Science)<br>Open Book, Eigener Computer, Internet-Zugang</td>\n",
    "  </tr>\n",
    "  <tr>\n",
    "  <td>Nicht erlaubt:</td>\n",
    "  <td>Nicht erlaubt ist der Einsatz beliebiger Formen von generativer KI (z.B. Copilot, ChatGPT) <br> sowie beliebige Formen von Kommunikation oder Kollaboration mit anderen Menschen.</td>\n",
    "</tr>\n",
    "</table>"
   ]
  },
  {
   "cell_type": "markdown",
   "id": "61847f62",
   "metadata": {},
   "source": [
    "## Bewertungskriterien\n",
    "\n",
    "### <b style=\"color: gray;\">(max. erreichbare Punkte: 48)</b>\n",
    "\n",
    "<table>\n",
    "  <thead>\n",
    "    <tr>\n",
    "      <th>Kategorie</th>\n",
    "      <th>Beschreibung</th>\n",
    "      <th>Punkteverteilung</th>\n",
    "    </tr>\n",
    "  </thead>\n",
    "  <tbody>\n",
    "    <tr>\n",
    "      <td>Code nicht lauffähig oder Ergebnisse nicht sinnvoll</td>\n",
    "      <td>Der Code enthält Fehler, die verhindern, dass er ausgeführt werden kann (z.B. Syntaxfehler) oder es werden Ergebnisse ausgegeben, welche nicht zur Fragestellung passen.</td>\n",
    "      <td>0 Punkte</td>\n",
    "    </tr>\n",
    "    <tr>\n",
    "      <td>Code lauffähig, aber mit gravierenden Mängeln</td>\n",
    "      <td>Der Code läuft, aber die Ergebnisse sind aufgrund wesentlicher Fehler unvollständig (z.B. fehlerhaftes Erstellen von Subsets der Daten). Nur geringer Fortschritt erkennbar.</td>\n",
    "      <td>25% der max. erreichbaren Punkte</td>\n",
    "    </tr>\n",
    "    <tr>\n",
    "      <td>Code lauffähig, aber mit mittleren Mängeln</td>\n",
    "      <td>Der Code läuft und liefert teilweise korrekte Ergebnisse, aber es gibt grössere Fehler (z.B. Datenvisualisierungen entsprechen nicht den Vorgaben gemäss Fragestellung). Die Ergebnisse sind nachvollziehbar, aber unvollständig oder ungenau.</td>\n",
    "      <td>50% der max. erreichbaren Punkte</td>\n",
    "    </tr>\n",
    "    <tr>\n",
    "      <td>Code lauffähig, aber mit minimalen Mängeln</td>\n",
    "      <td>Der Code läuft und liefert ein weitgehend korrektes Ergebnis, aber kleinere Fehler (z.B. Achsenbeschriftung oder Titel in Graphik fehlt) beeinträchtigen die Vollständigkeit des Ergebnisses.</td>\n",
    "      <td>75% der max. erreichbaren Punkte</td>\n",
    "    </tr>\n",
    "    <tr>\n",
    "      <td>Code lauffähig und korrekt</td>\n",
    "      <td>Der Code läuft einwandfrei und liefert das korrekte Ergebnis ohne Mängel.</td>\n",
    "      <td>100% der max. erreichbaren Punkte</td>\n",
    "    </tr>\n",
    "  </tbody>\n",
    "</table>\n"
   ]
  },
  {
   "cell_type": "markdown",
   "id": "9b8df3dd",
   "metadata": {},
   "source": [
    "## Python Libraries und Settings"
   ]
  },
  {
   "cell_type": "code",
   "execution_count": 1,
   "id": "b027d889",
   "metadata": {},
   "outputs": [
    {
     "name": "stdout",
     "output_type": "stream",
     "text": [
      "u:\\Lektionen\\DS_HS2024\\MEP_HS2024\\Block_02\\Loesungen_LN_II\\AP02\n"
     ]
    }
   ],
   "source": [
    "# Libraries\n",
    "import os\n",
    "import re\n",
    "import random\n",
    "import sqlite3\n",
    "import pandas as pd\n",
    "import numpy as np\n",
    "import seaborn as sns\n",
    "import matplotlib.pyplot as plt\n",
    "import statsmodels.api as sm\n",
    "from datetime import datetime, timedelta\n",
    "from sqlalchemy import create_engine, text\n",
    "\n",
    "# seaborn graphics settings\n",
    "sns.set_theme(color_codes=True)\n",
    "\n",
    "# Ignore warnings\n",
    "import warnings\n",
    "warnings.filterwarnings(\"ignore\")\n",
    "\n",
    "# Show current working directory\n",
    "print(os.getcwd())"
   ]
  },
  {
   "cell_type": "markdown",
   "id": "aac9011e",
   "metadata": {},
   "source": [
    "## <b>Vorbereitung (Dieser Teil wird <u>nicht</u> bewertet!)</b>"
   ]
  },
  {
   "cell_type": "markdown",
   "id": "2e253f40",
   "metadata": {},
   "source": [
    "#### <b>1.) Starten Sie eine GitHub Codespaces Instanz auf Basis Ihres Forks des folgenden GitHub Repositories:</b>\n",
    "\n",
    "##### GitHub-Repository: https://github.com/mario-gellrich-zhaw/python_exploratory_data_analysis\n"
   ]
  },
  {
   "cell_type": "markdown",
   "id": "e5c27b72",
   "metadata": {},
   "source": [
    "## <b>Aufgaben (Dieser Teil wird bewertet!)</b>\n",
    "<b style=\"color:blue;\">Hinweise zu den folgenden Aufgabenstellungen:</b>\n",
    "<ul style=\"color:blue;\">\n",
    "  <li>Beachten Sie auch die zu jeder Aufgabenstellung zugehörenden Details zu Aufgabenstellung.</li>\n",
    "  <li>Lösen Sie jede Aufgabe mit Hilfe von Python Code. Integrieren Sie den Python Code in die Code-Zellen der jeweiligen Aufgabe.</li>\n",
    "  <li>Stellen Sie die Lösung(en) jeder Aufgabe ganz oder in Teilen (z.B. erste 5 Zeilen) eines DataFrames im Jupyter Notebook dar.</li>\n",
    "  <li>Stellen Sie sämtliche von Ihnen erstellte Graphiken im Jupyter Notebook dar.</li>\n",
    "</ul>"
   ]
  },
  {
   "cell_type": "markdown",
   "id": "6033f466",
   "metadata": {},
   "source": [
    "#### <b>Aufgabe (1): Lesen Sie den Datensatz 'smartphone_data.csv' aus dem Order 'Data' ein, und speichern Sie diesen in einem pandas DataFrame.</b>\n",
    "<b>Details zur Aufgabenstellung:</b>\n",
    "- Zeigen Sie die Dimension des DataFrames (Zeilen und Spalten) im Jupyter Notebook an.\n",
    "- Zeigen Sie die Datentypen sämtlicher Spalten des DataFrames im Jupyter Notebook an.\n",
    "- Zeigen Sie die ersten Zeilen des DataFrames im Jupyter Notebook an.<br><br>\n",
    "\n",
    "- Tipp: Berücksichtigen Sie den Pfad der Ablage der Daten im Ordner Data ('./Data/smartphone_data.csv').\n",
    "\n",
    "<b style=\"color: gray;\">(max. erreichbare Punkte: 4)</b>"
   ]
  },
  {
   "cell_type": "code",
   "execution_count": 2,
   "id": "fdfcb555",
   "metadata": {},
   "outputs": [
    {
     "name": "stdout",
     "output_type": "stream",
     "text": [
      "Anzahl Zeilen: 5000; Anzahl Spalten: 12 \n",
      "\n",
      "Datentypen:\n",
      " offer_id                   int64\n",
      "dealer_plz                 int64\n",
      "dealer_city               object\n",
      "dealer_street_house_nr    object\n",
      "make                      object\n",
      "model                     object\n",
      "price_raw                 object\n",
      "camera_resolution_raw     object\n",
      "battery_life_raw          object\n",
      "storage_size_raw          object\n",
      "screen_size_raw           object\n",
      "description_raw           object\n",
      "dtype: object \n",
      "\n"
     ]
    },
    {
     "data": {
      "text/html": [
       "<div>\n",
       "<style scoped>\n",
       "    .dataframe tbody tr th:only-of-type {\n",
       "        vertical-align: middle;\n",
       "    }\n",
       "\n",
       "    .dataframe tbody tr th {\n",
       "        vertical-align: top;\n",
       "    }\n",
       "\n",
       "    .dataframe thead th {\n",
       "        text-align: right;\n",
       "    }\n",
       "</style>\n",
       "<table border=\"1\" class=\"dataframe\">\n",
       "  <thead>\n",
       "    <tr style=\"text-align: right;\">\n",
       "      <th></th>\n",
       "      <th>offer_id</th>\n",
       "      <th>dealer_plz</th>\n",
       "      <th>dealer_city</th>\n",
       "      <th>dealer_street_house_nr</th>\n",
       "      <th>make</th>\n",
       "      <th>model</th>\n",
       "      <th>price_raw</th>\n",
       "      <th>camera_resolution_raw</th>\n",
       "      <th>battery_life_raw</th>\n",
       "      <th>storage_size_raw</th>\n",
       "      <th>screen_size_raw</th>\n",
       "      <th>description_raw</th>\n",
       "    </tr>\n",
       "  </thead>\n",
       "  <tbody>\n",
       "    <tr>\n",
       "      <th>0</th>\n",
       "      <td>83197857</td>\n",
       "      <td>6394</td>\n",
       "      <td>Volketswil</td>\n",
       "      <td>Blaserstrasse 19</td>\n",
       "      <td>Apple</td>\n",
       "      <td>iPhone 13</td>\n",
       "      <td>CHF 2518.-</td>\n",
       "      <td>20 MP</td>\n",
       "      <td>16 hrs</td>\n",
       "      <td>256 GB</td>\n",
       "      <td>6.1 IN</td>\n",
       "      <td>Langlebige Batterie mit Schnellladefunktion, d...</td>\n",
       "    </tr>\n",
       "    <tr>\n",
       "      <th>1</th>\n",
       "      <td>36687537</td>\n",
       "      <td>9532</td>\n",
       "      <td>Oberwil</td>\n",
       "      <td>Furrerstrasse 1</td>\n",
       "      <td>Vivo</td>\n",
       "      <td>Vivo V21</td>\n",
       "      <td>CHF 266.-</td>\n",
       "      <td>12 MP</td>\n",
       "      <td>16 hrs</td>\n",
       "      <td>128 GB</td>\n",
       "      <td>5.8 IN</td>\n",
       "      <td>Modernste Gesichtserkennungstechnologie für Si...</td>\n",
       "    </tr>\n",
       "    <tr>\n",
       "      <th>2</th>\n",
       "      <td>66722344</td>\n",
       "      <td>2227</td>\n",
       "      <td>Rüti</td>\n",
       "      <td>Maierstrasse 31</td>\n",
       "      <td>Vivo</td>\n",
       "      <td>Vivo V21</td>\n",
       "      <td>CHF 424.-</td>\n",
       "      <td>12 MP</td>\n",
       "      <td>20 hrs</td>\n",
       "      <td>256 GB</td>\n",
       "      <td>5.8 IN</td>\n",
       "      <td>Ultra-HD-Display für eine atemberaubende Bildq...</td>\n",
       "    </tr>\n",
       "    <tr>\n",
       "      <th>3</th>\n",
       "      <td>56164955</td>\n",
       "      <td>5766</td>\n",
       "      <td>Bülach</td>\n",
       "      <td>Sidlerstrasse 6</td>\n",
       "      <td>Google</td>\n",
       "      <td>Pixel 6a</td>\n",
       "      <td>CHF 597.-</td>\n",
       "      <td>12 MP</td>\n",
       "      <td>25 hrs</td>\n",
       "      <td>64 GB</td>\n",
       "      <td>5.8 IN</td>\n",
       "      <td>Mit Stiftunterstützung für Kreativität und Prä...</td>\n",
       "    </tr>\n",
       "    <tr>\n",
       "      <th>4</th>\n",
       "      <td>94374605</td>\n",
       "      <td>8304</td>\n",
       "      <td>Belp</td>\n",
       "      <td>Steinerstrasse 8</td>\n",
       "      <td>Google</td>\n",
       "      <td>Pixel 6</td>\n",
       "      <td>CHF 1934.-</td>\n",
       "      <td>20 MP</td>\n",
       "      <td>23 hrs</td>\n",
       "      <td>64 GB</td>\n",
       "      <td>5.8 IN</td>\n",
       "      <td>Aufgeteilt in benutzerfreundliche Kategorien f...</td>\n",
       "    </tr>\n",
       "  </tbody>\n",
       "</table>\n",
       "</div>"
      ],
      "text/plain": [
       "   offer_id  dealer_plz dealer_city dealer_street_house_nr    make      model  \\\n",
       "0  83197857        6394  Volketswil       Blaserstrasse 19   Apple  iPhone 13   \n",
       "1  36687537        9532     Oberwil        Furrerstrasse 1    Vivo   Vivo V21   \n",
       "2  66722344        2227        Rüti        Maierstrasse 31    Vivo   Vivo V21   \n",
       "3  56164955        5766      Bülach        Sidlerstrasse 6  Google   Pixel 6a   \n",
       "4  94374605        8304        Belp       Steinerstrasse 8  Google    Pixel 6   \n",
       "\n",
       "    price_raw camera_resolution_raw battery_life_raw storage_size_raw  \\\n",
       "0  CHF 2518.-                 20 MP           16 hrs           256 GB   \n",
       "1   CHF 266.-                 12 MP           16 hrs           128 GB   \n",
       "2   CHF 424.-                 12 MP           20 hrs           256 GB   \n",
       "3   CHF 597.-                 12 MP           25 hrs            64 GB   \n",
       "4  CHF 1934.-                 20 MP           23 hrs            64 GB   \n",
       "\n",
       "  screen_size_raw                                    description_raw  \n",
       "0          6.1 IN  Langlebige Batterie mit Schnellladefunktion, d...  \n",
       "1          5.8 IN  Modernste Gesichtserkennungstechnologie für Si...  \n",
       "2          5.8 IN  Ultra-HD-Display für eine atemberaubende Bildq...  \n",
       "3          5.8 IN  Mit Stiftunterstützung für Kreativität und Prä...  \n",
       "4          5.8 IN  Aufgeteilt in benutzerfreundliche Kategorien f...  "
      ]
     },
     "execution_count": 2,
     "metadata": {},
     "output_type": "execute_result"
    }
   ],
   "source": [
    "# Einlesen der Daten 'smartphone_data.csv' aus dem Order 'Data' in ein DataFrame 'df'\n",
    "df = pd.read_csv('./Data/smartphone_data.csv',\n",
    "                   sep=';', \n",
    "                   encoding='utf-8')\n",
    "\n",
    "# Anzeigen der Dimension des DataFrames (Zeilen und Spalten)\n",
    "print(f'Anzahl Zeilen: {df.shape[0]}; Anzahl Spalten: {df.shape[1]}', '\\n')\n",
    "\n",
    "# Anzeigen der Datentypen sämtlicher Spalten des DataFrames\n",
    "print('Datentypen:\\n', df.dtypes, '\\n')\n",
    "\n",
    "# Anzeigen der ersten 5 Zeilen des DataFrames\n",
    "df.head()"
   ]
  },
  {
   "cell_type": "markdown",
   "id": "1ecba494",
   "metadata": {},
   "source": [
    "<div style=\"background-color: #F0EAD6;\">\n",
    "\n",
    "#### <b> Hinweis! \n",
    "\n",
    "#### Falls Sie den Datensatz 'smartphone_data.csv' nicht einlesen konnten, verwenden Sie die SQLite DB 'smartphone_data.db' im Order 'Data'.</b>\n",
    "\n",
    "#### <b> Der folgende Python-Code liesst die Daten aus der SQLite DB in ein pandas DataFrame mit dem Namen 'df'.</b>\n",
    "\n",
    "```python\n",
    "# Engine für Datenbankverbindung erstellen\n",
    "engine = create_engine('sqlite:///./Data/smartphone_data.db')\n",
    "\n",
    "# SQL Abfrage\n",
    "df = pd.read_sql_query(\"\"\"SELECT * FROM smartphone_data\"\"\",\n",
    "                          con=engine)\n",
    "\n",
    "# Schliessen der Datenbankverbindung\n",
    "engine.dispose()\n",
    "\n",
    "# Anzeigen des DataFrames (erste 5 Zeilen)\n",
    "df.head()\n",
    "```\n",
    "</div>"
   ]
  },
  {
   "cell_type": "markdown",
   "id": "c31d4887",
   "metadata": {},
   "source": [
    "#### <b>Aufgabe (2): Extrahieren Sie die numerischen Werte der folgenden Variablen, und speichern Sie diese in separaten Variablen im DataFrame ab.</b>\n",
    "<b>Details zur Aufgabenstellung:</b>\n",
    "- Extrahieren Sie die numerischen Werte der folgenden Variablen, und speichern Sie diese in separaten Variablen ab:\n",
    "  - price_raw\n",
    "  - camera_resolution_raw\n",
    "  - battery_life_raw\n",
    "  - storage_size_raw\n",
    "  - screen_size_raw<br>\n",
    "- Benennen Sie die Spalten der neuen Variablen als (in Klammern ist der Datentyp angegeben):\n",
    "  - price (int64)\n",
    "  - camera_resolution (int64)\n",
    "  - battery_life (int64)\n",
    "  - storage_size (int64)\n",
    "  - screen_size (float64)\n",
    "- Stellen Sie ein Subset des DataFrames nur mit den neuen Spalten und den ersten 5 Zeilen im Jupyter Notebook dar.<br><br>\n",
    "\n",
    "- Tipp: Die folgenden regular expressions sind eine Hilfestellung zum Lösen der Aufgabe:\n",
    "  ```python\n",
    "  \"CHF\\s*(\\d+)\\.-\"\n",
    "  \"(\\d+)\\s*MP\"\n",
    "  \"(\\d+)\\s*hrs\"\n",
    "  \"(\\d+)\\s*GB\"\n",
    "  \"(\\d+\\.\\d+)\\s*IN\"\n",
    "  ```\n",
    "  \n",
    "<b style=\"color: gray;\">(max. erreichbare Punkte: 8)</b>"
   ]
  },
  {
   "cell_type": "code",
   "execution_count": 3,
   "id": "3d904b27",
   "metadata": {},
   "outputs": [],
   "source": [
    "# Extrahieren der numerischen Werte aus 'price_raw' und speichern in separaten Variablen\n",
    "price = []\n",
    "for i in df['price_raw']:\n",
    "    d1 = re.findall(\"CHF\\s*(\\d+)\\.-\", i)\n",
    "    try:\n",
    "        d2 = int(''.join(d1))\n",
    "    except:\n",
    "        d2 = None\n",
    "    price.append(d2)\n",
    "\n",
    "# Save as new variable in the pandas data frame\n",
    "df['price'] = pd.Series(price, dtype=\"int64\")\n"
   ]
  },
  {
   "cell_type": "code",
   "execution_count": 4,
   "id": "875ba6fe",
   "metadata": {},
   "outputs": [],
   "source": [
    "# Extrahieren der numerischen Werte aus 'camera_resolution_raw' und speichern in separaten Variablen\n",
    "camera = []\n",
    "for i in df['camera_resolution_raw']:\n",
    "    d1 = re.findall(\"(\\d+)\\s*MP\", i)\n",
    "    try:\n",
    "        d2 = int(''.join(d1))\n",
    "    except:\n",
    "        d2 = None\n",
    "    camera.append(d2)\n",
    "\n",
    "# Save as new variable in the pandas data frame\n",
    "df['camera_resolution'] = pd.Series(camera, dtype=\"int64\")\n"
   ]
  },
  {
   "cell_type": "code",
   "execution_count": 5,
   "id": "3b296dd4",
   "metadata": {},
   "outputs": [],
   "source": [
    "# Extrahieren der numerischen Werte aus 'battery_life_raw' und speichern in separaten Variablen\n",
    "battery = []\n",
    "for i in df['battery_life_raw']:\n",
    "    d1 = re.findall(\"(\\d+)\\s*hrs\", i)\n",
    "    try:\n",
    "        d2 = int(''.join(d1))\n",
    "    except:\n",
    "        d2 = None\n",
    "    battery.append(d2)\n",
    "\n",
    "# Save as new variable in the pandas data frame\n",
    "df['battery_life'] = pd.Series(battery, dtype=\"int64\")\n"
   ]
  },
  {
   "cell_type": "code",
   "execution_count": 6,
   "id": "4a66c81e",
   "metadata": {},
   "outputs": [],
   "source": [
    "# Extrahieren der numerischen Werte aus 'storage_size_raw' und speichern in separaten Variablen\n",
    "storage = []\n",
    "for i in df['storage_size_raw']:\n",
    "    d1 = re.findall(\"(\\d+)\\s*GB\", i)\n",
    "    try:\n",
    "        d2 = int(''.join(d1))\n",
    "    except:\n",
    "        d2 = None\n",
    "    storage.append(d2)\n",
    "\n",
    "# Save as new variable in the pandas data frame\n",
    "df['storage_size'] = pd.Series(storage, dtype=\"int64\")\n"
   ]
  },
  {
   "cell_type": "code",
   "execution_count": 7,
   "id": "9d4ce6d8",
   "metadata": {},
   "outputs": [],
   "source": [
    "# Extrahieren der numerischen Werte aus 'screen_size_raw' und speichern in separaten Variablen (Tipp: float statt int)\n",
    "screen = []\n",
    "for i in df['screen_size_raw']:\n",
    "    d1 = re.findall(\"(\\d+\\.\\d+)\\s*IN\", i)\n",
    "    try:\n",
    "        d2 = float(''.join(d1)) # use 'float' instead of 'int'\n",
    "    except:\n",
    "        d2 = None\n",
    "    screen.append(d2)\n",
    "\n",
    "# Save as new variable in the pandas data frame\n",
    "df['screen_size'] = pd.Series(screen, dtype=\"float64\")\n"
   ]
  },
  {
   "cell_type": "code",
   "execution_count": 8,
   "id": "97eb6bca",
   "metadata": {},
   "outputs": [
    {
     "data": {
      "text/html": [
       "<div>\n",
       "<style scoped>\n",
       "    .dataframe tbody tr th:only-of-type {\n",
       "        vertical-align: middle;\n",
       "    }\n",
       "\n",
       "    .dataframe tbody tr th {\n",
       "        vertical-align: top;\n",
       "    }\n",
       "\n",
       "    .dataframe thead th {\n",
       "        text-align: right;\n",
       "    }\n",
       "</style>\n",
       "<table border=\"1\" class=\"dataframe\">\n",
       "  <thead>\n",
       "    <tr style=\"text-align: right;\">\n",
       "      <th></th>\n",
       "      <th>price</th>\n",
       "      <th>camera_resolution</th>\n",
       "      <th>battery_life</th>\n",
       "      <th>storage_size</th>\n",
       "      <th>screen_size</th>\n",
       "    </tr>\n",
       "  </thead>\n",
       "  <tbody>\n",
       "    <tr>\n",
       "      <th>0</th>\n",
       "      <td>2518</td>\n",
       "      <td>20</td>\n",
       "      <td>16</td>\n",
       "      <td>256</td>\n",
       "      <td>6.1</td>\n",
       "    </tr>\n",
       "    <tr>\n",
       "      <th>1</th>\n",
       "      <td>266</td>\n",
       "      <td>12</td>\n",
       "      <td>16</td>\n",
       "      <td>128</td>\n",
       "      <td>5.8</td>\n",
       "    </tr>\n",
       "    <tr>\n",
       "      <th>2</th>\n",
       "      <td>424</td>\n",
       "      <td>12</td>\n",
       "      <td>20</td>\n",
       "      <td>256</td>\n",
       "      <td>5.8</td>\n",
       "    </tr>\n",
       "    <tr>\n",
       "      <th>3</th>\n",
       "      <td>597</td>\n",
       "      <td>12</td>\n",
       "      <td>25</td>\n",
       "      <td>64</td>\n",
       "      <td>5.8</td>\n",
       "    </tr>\n",
       "    <tr>\n",
       "      <th>4</th>\n",
       "      <td>1934</td>\n",
       "      <td>20</td>\n",
       "      <td>23</td>\n",
       "      <td>64</td>\n",
       "      <td>5.8</td>\n",
       "    </tr>\n",
       "  </tbody>\n",
       "</table>\n",
       "</div>"
      ],
      "text/plain": [
       "   price  camera_resolution  battery_life  storage_size  screen_size\n",
       "0   2518                 20            16           256          6.1\n",
       "1    266                 12            16           128          5.8\n",
       "2    424                 12            20           256          5.8\n",
       "3    597                 12            25            64          5.8\n",
       "4   1934                 20            23            64          5.8"
      ]
     },
     "execution_count": 8,
     "metadata": {},
     "output_type": "execute_result"
    }
   ],
   "source": [
    "# Anzeigen Subset des DataFrames nur mit den neuen Variablen und den ersten 5 Zeilen\n",
    "df[['price', 'camera_resolution', 'battery_life', 'storage_size', 'screen_size']].head()"
   ]
  },
  {
   "cell_type": "markdown",
   "id": "acc3fec8",
   "metadata": {},
   "source": [
    "#### <b>Aufgabe (3): Erstellen Sie statistische Kennzahlen zu den numerischen Variablen im DataFrame.</b>\n",
    "<b>Details zur Aufgabenstellung:</b>\n",
    "- Berechnen Sie die statistische Kennzahlen für die Variablen 'price', 'camera_resolution', 'battery_life', 'storage_size', 'screen_size'.\n",
    "- Die statistische Kennzahlen, welche berechnet werden sollen sind (engl. Bezeichnungen): \n",
    "  - Count\n",
    "  - Mean\n",
    "  - Standard Deviation (std)\n",
    "  - Minimum\n",
    "  - 25th Percentile (= 1st Quartile)\n",
    "  - 50th Percentile (= Median)\n",
    "  - 75th Percentile (= 3rd Quartile)\n",
    "  - Maximum\n",
    "  - Skewness\n",
    "- Stellen Sie die berechneten statistische Kennzahlen im Jupyter Notebook dar (es können auch verschiedene Ergebnistabellen angezeigt werden).<br><br>\n",
    "\n",
    "- Tipp: Nicht alle Python - Methoden verwenden automatisch nur die numerischen Variablen. In diesen Fällen muss ein Subset der numerischen Variablen erstellt werden.\n",
    "\n",
    "<b style=\"color: gray;\">(max. erreichbare Punkte: 4)</b>"
   ]
  },
  {
   "cell_type": "code",
   "execution_count": 9,
   "id": "149fbe5c",
   "metadata": {},
   "outputs": [
    {
     "name": "stdout",
     "output_type": "stream",
     "text": [
      "Summary Statistic:\n",
      "           offer_id  dealer_plz     price  camera_resolution  battery_life  \\\n",
      "count      5000.00     5000.00   5000.00            5000.00       5000.00   \n",
      "mean   55197271.47     5559.51   1391.03              22.99         22.56   \n",
      "std    25815003.01     2599.28   1359.78              21.90          5.31   \n",
      "min    10008043.00     1000.00     18.00              12.00         15.00   \n",
      "25%    33059199.00     3300.50    546.00              12.00         18.00   \n",
      "50%    54908941.50     5557.50    975.50              16.00         22.00   \n",
      "75%    77253679.00     7784.50   1763.00              20.00         26.00   \n",
      "max    99985448.00     9999.00  17091.00             108.00         35.00   \n",
      "\n",
      "       storage_size  screen_size  \n",
      "count       5000.00      5000.00  \n",
      "mean         211.00         6.15  \n",
      "std          165.66         0.36  \n",
      "min           64.00         5.80  \n",
      "25%           64.00         5.80  \n",
      "50%          128.00         6.10  \n",
      "75%          256.00         6.50  \n",
      "max          512.00         6.90  \n",
      "\n",
      "Skewness:\n",
      " price                3.0052\n",
      "camera_resolution    2.7580\n",
      "battery_life         0.4858\n",
      "storage_size         0.9657\n",
      "screen_size          0.6616\n",
      "dtype: float64\n"
     ]
    }
   ],
   "source": [
    "# Einlesen der aufbereiteten Daten (damit alle auf dem gleichen Stand sind)\n",
    "engine = create_engine('sqlite:///./Data/smartphone_data_prepared.db')\n",
    "df = pd.read_sql_query(\"\"\"SELECT * FROM smartphone_data_prepared\"\"\", con=engine)\n",
    "engine.dispose()\n",
    "\n",
    "# Berechnung der statistischen Kennzahlen der numerischen Spalten in 'df'\n",
    "print('Summary Statistic:\\n', df.describe().round(2))\n",
    "\n",
    "# Separate Berechnung der Skewness der numerischen Spalten\n",
    "cols = ['price', 'camera_resolution', 'battery_life', 'storage_size', 'screen_size']\n",
    "skewness = df[cols].skew().round(4)\n",
    "print('\\nSkewness:\\n', skewness)"
   ]
  },
  {
   "cell_type": "markdown",
   "id": "2b80dc61",
   "metadata": {},
   "source": [
    "#### <b>Aufgabe (4): Erstellen Sie eine Pivot-Tabelle mit den Mittwelwerten der numerischen Variablen pro Hersteller.</b>\n",
    "<b>Details zur Aufgabenstellung:</b>\n",
    "- Die Angabe zum Hersteller finden Sie in der Variable 'make'.\n",
    "- Verwenden Sie die für die Mittelwertsberechnung die Variablen 'price', 'camera_resolution', 'battery_life', 'storage_size', 'screen_size'.\n",
    "- Stellen Sie die Pivot-Tabelle im Jupyter Notebook dar.\n",
    "\n",
    "<b style=\"color: gray;\">(max. erreichbare Punkte: 4)</b>"
   ]
  },
  {
   "cell_type": "code",
   "execution_count": 10,
   "id": "077a187d-05be-4c30-a367-a4e1a19d4466",
   "metadata": {},
   "outputs": [
    {
     "data": {
      "text/html": [
       "<div>\n",
       "<style scoped>\n",
       "    .dataframe tbody tr th:only-of-type {\n",
       "        vertical-align: middle;\n",
       "    }\n",
       "\n",
       "    .dataframe tbody tr th {\n",
       "        vertical-align: top;\n",
       "    }\n",
       "\n",
       "    .dataframe thead th {\n",
       "        text-align: right;\n",
       "    }\n",
       "</style>\n",
       "<table border=\"1\" class=\"dataframe\">\n",
       "  <thead>\n",
       "    <tr style=\"text-align: right;\">\n",
       "      <th></th>\n",
       "      <th>battery_life</th>\n",
       "      <th>camera_resolution</th>\n",
       "      <th>price</th>\n",
       "      <th>screen_size</th>\n",
       "      <th>storage_size</th>\n",
       "    </tr>\n",
       "    <tr>\n",
       "      <th>make</th>\n",
       "      <th></th>\n",
       "      <th></th>\n",
       "      <th></th>\n",
       "      <th></th>\n",
       "      <th></th>\n",
       "    </tr>\n",
       "  </thead>\n",
       "  <tbody>\n",
       "    <tr>\n",
       "      <th>Apple</th>\n",
       "      <td>22.61</td>\n",
       "      <td>23.23</td>\n",
       "      <td>2120.24</td>\n",
       "      <td>6.13</td>\n",
       "      <td>208.90</td>\n",
       "    </tr>\n",
       "    <tr>\n",
       "      <th>Google</th>\n",
       "      <td>22.48</td>\n",
       "      <td>22.32</td>\n",
       "      <td>1583.31</td>\n",
       "      <td>6.16</td>\n",
       "      <td>214.17</td>\n",
       "    </tr>\n",
       "    <tr>\n",
       "      <th>Samsung</th>\n",
       "      <td>22.62</td>\n",
       "      <td>22.37</td>\n",
       "      <td>1343.23</td>\n",
       "      <td>6.16</td>\n",
       "      <td>209.06</td>\n",
       "    </tr>\n",
       "    <tr>\n",
       "      <th>Vivo</th>\n",
       "      <td>22.65</td>\n",
       "      <td>23.80</td>\n",
       "      <td>842.75</td>\n",
       "      <td>6.15</td>\n",
       "      <td>214.25</td>\n",
       "    </tr>\n",
       "    <tr>\n",
       "      <th>Xiaomi</th>\n",
       "      <td>22.41</td>\n",
       "      <td>23.26</td>\n",
       "      <td>1058.12</td>\n",
       "      <td>6.13</td>\n",
       "      <td>208.87</td>\n",
       "    </tr>\n",
       "  </tbody>\n",
       "</table>\n",
       "</div>"
      ],
      "text/plain": [
       "         battery_life  camera_resolution    price  screen_size  storage_size\n",
       "make                                                                        \n",
       "Apple           22.61              23.23  2120.24         6.13        208.90\n",
       "Google          22.48              22.32  1583.31         6.16        214.17\n",
       "Samsung         22.62              22.37  1343.23         6.16        209.06\n",
       "Vivo            22.65              23.80   842.75         6.15        214.25\n",
       "Xiaomi          22.41              23.26  1058.12         6.13        208.87"
      ]
     },
     "execution_count": 10,
     "metadata": {},
     "output_type": "execute_result"
    }
   ],
   "source": [
    "# Erstellen der Pivot-Tabelle\n",
    "pivot_table = df.pivot_table(index='make', \n",
    "                             values=['price', \n",
    "                                     'camera_resolution', \n",
    "                                     'battery_life', \n",
    "                                     'storage_size', \n",
    "                                     'screen_size'], \n",
    "                             aggfunc='mean').round(2)\n",
    "\n",
    "# Anzeigen der Pivot-Tabelle\n",
    "pivot_table"
   ]
  },
  {
   "cell_type": "markdown",
   "id": "ba5b3943",
   "metadata": {},
   "source": [
    "#### <b>Aufgabe (5): Erstellen Sie ein Histogramm der Variable 'price'.</b>\n",
    "<b>Details zur Aufgabenstellung: </b>\n",
    "- Setzen Sie die Anzahl der Klassen (engl.: bins) auf den Wert 25.\n",
    "- Beschriften Sie die Achsen des Histogramms, und fügen Sie einen Titel hinzu.\n",
    "- Fügen Sie der Graphik ein Gitternetz (engl.: grid) hinzu.\n",
    "- Zeigen Sie das Histogramm im Jupyter Notebook an. \n",
    "\n",
    "<b style=\"color: gray;\">(max. erreichbare Punkte: 8)</b>"
   ]
  },
  {
   "cell_type": "code",
   "execution_count": 11,
   "id": "c2d69f01",
   "metadata": {},
   "outputs": [
    {
     "data": {
      "image/png": "[encoded data removed]",
      "text/plain": [
       "<Figure size 700x400 with 1 Axes>"
      ]
     },
     "metadata": {},
     "output_type": "display_data"
    }
   ],
   "source": [
    "# Erstellen, Beschriften und Anzeigen des Histogramms\n",
    "fig = plt.figure( figsize=(7,4))\n",
    "n, bins, patches = plt.hist(x=df['price'], \n",
    "                            bins=25, \n",
    "                            color='steelblue',\n",
    "                            alpha=0.80, \n",
    "                            rwidth=0.95)\n",
    "\n",
    "# Beschriftung der Achsen und Hinzufügen des Titels\n",
    "plt.xlabel('Price', fontsize=10, labelpad=10)\n",
    "plt.ylabel('Anzahl Smartphones', fontsize=10, labelpad=10)\n",
    "plt.title('Histogram mit Preisverteilung der Smartphones', fontsize=14, pad=10)\n",
    "\n",
    "# Grid\n",
    "plt.grid(True)\n",
    "\n",
    "# Zeige den Plot\n",
    "plt.show()"
   ]
  },
  {
   "cell_type": "markdown",
   "id": "08bd20f4",
   "metadata": {},
   "source": [
    "#### <b>Aufgabe (6): Erstellen Sie einen gruppierten Boxplot mit den Preisen pro Hersteller.</b>\n",
    "<b>Details zur Aufgabenstellung: </b>\n",
    "- Verwenden Sie die Python Library seaborn für die Erstellung des gruppieren Boxplots.\n",
    "- Die Angabe zum Hersteller (=Gruppierungsvariable) finden Sie in der Variable 'make'.\n",
    "- Beschriften Sie die Achsen und geben Sie der Graphik einen Titel.\n",
    "- Stellen Sie den gruppierten Boxplot im Jupyter Notebook dar.<br><br>\n",
    "\n",
    "- Tipp: Für die Erstellung des gruppierten Boxplots können Sie Vorlagen aus der seaborn - Hilfe verwenden (vgl. Abschnitt: 'Group by a categorical variable ...'):<br><br>\n",
    "  https://seaborn.pydata.org/generated/seaborn.boxplot.html\n",
    "\n",
    "\n",
    "<b style=\"color: gray;\">(max. erreichbare Punkte: 8)</b>"
   ]
  },
  {
   "cell_type": "code",
   "execution_count": 12,
   "id": "504ca399",
   "metadata": {},
   "outputs": [
    {
     "data": {
      "image/png": "[encoded data removed]",
      "text/plain": [
       "<Figure size 700x300 with 1 Axes>"
      ]
     },
     "metadata": {},
     "output_type": "display_data"
    }
   ],
   "source": [
    "# Erstellen, Beschriften und Anzeigen eines gruppierten Boxplots der Preise pro Hersteller\n",
    "plt.figure(figsize=(7, 3))\n",
    "sns.boxplot(x='price', \n",
    "            y='make', \n",
    "            data=df, \n",
    "            orient='h',\n",
    "            palette='Set2')\n",
    "plt.title('Verteilung der Smartphone Preise nach Hersteller', fontsize=12)\n",
    "plt.xlabel('Price')\n",
    "plt.ylabel('Make')\n",
    "plt.xticks(rotation=45)\n",
    "plt.show()"
   ]
  },
  {
   "cell_type": "markdown",
   "id": "d67e3225",
   "metadata": {},
   "source": [
    "#### <b>Aufgabe (7): Erstellen Sie ein Barchart mit der Anzahl Smartphones pro Hersteller.</b>\n",
    "<b>Details zur Aufgabenstellung:</b>\n",
    "- Ergänzen Sie den Python Code unten dort wo notwendig.\n",
    "- Die Angabe zum Hersteller finden Sie in der Variable 'make'.\n",
    "- Im Barchart müssen die Hersteller auf der vertikalen und die Anzahl Smartphones auf der horizontalen Achse abgebildet sein.\n",
    "- Im Barchart müssen die Anzahl Smartphones pro Hersteller der Grösse nach absteigend sortiert sein.\n",
    "- Beschriften Sie die Achsen des Barcharts und geben Sie dem Barchart einen Titel.<br><br>\n",
    "\n",
    "<b style=\"color: gray;\">(max. erreichbare Punkte: 8)</b>"
   ]
  },
  {
   "cell_type": "code",
   "execution_count": 13,
   "id": "909478da",
   "metadata": {},
   "outputs": [
    {
     "data": {
      "image/png": "[encoded data removed]",
      "text/plain": [
       "<Figure size 700x400 with 1 Axes>"
      ]
     },
     "metadata": {},
     "output_type": "display_data"
    }
   ],
   "source": [
    "# Gruppierung der Daten nach 'make' und Berechnung der Anzahl Smartphones\n",
    "df_bar = df['make'].value_counts().sort_values(ascending=True)\n",
    "\n",
    "# Zusammenstellen der Werte für den Barchart\n",
    "napart = list(df_bar.values)\n",
    "index = list(df_bar.index.values)\n",
    "y_pos = np.arange(len(index))\n",
    "\n",
    "# Erstellen des Barcharts\n",
    "fig, ax = plt.subplots(figsize=(7,4))\n",
    "ax.barh(y_pos, napart, align='center', color='steelblue')\n",
    "ax.set_yticks(y_pos, index)\n",
    "ax.set_xlabel('Anzahl Smartphones', fontsize=10)\n",
    "ax.set_ylabel('Make', fontsize=10)\n",
    "ax.set_xlim(0, 1200)\n",
    "ax.set_title('Anzahl Smartphones pro Hersteller', fontsize=12)\n",
    "\n",
    "# Anzeigen der Graphik\n",
    "plt.show()"
   ]
  },
  {
   "cell_type": "markdown",
   "id": "51ec75c6",
   "metadata": {},
   "source": [
    "#### <b>Aufgabe (8): Erstellen Sie eine Correlation-Heatmap auf der Basis der numerischen Variablen.</b>\n",
    "<b>Details zur Aufgabenstellung:</b>\n",
    "- Verwenden Sie die Variablen 'price', 'camera_resolution', 'battery_life', 'storage_size', 'screen_size'.\n",
    "- Berechnen Sie auf zwei Nachkommastellen gerundete Korrelationskoeffizienten als Basis für die Correlation-Matrix und -Heatmap.\n",
    "- Stellen Sie die Correlation-Matrix im Jupyter Notebook dar.\n",
    "- Stellen Sie die Correlation-Heatmap im Jupyter Notebook dar.\n",
    "\n",
    "<b style=\"color: gray;\">(max. erreichbare Punkte: 8)</b>"
   ]
  },
  {
   "cell_type": "code",
   "execution_count": 14,
   "id": "7592f8ad",
   "metadata": {},
   "outputs": [
    {
     "data": {
      "image/png": "[encoded data removed]",
      "text/plain": [
       "<Figure size 700x400 with 2 Axes>"
      ]
     },
     "metadata": {},
     "output_type": "display_data"
    }
   ],
   "source": [
    "# Setzen der Schriftgrösse in seaborn\n",
    "sns.set_theme(font_scale=0.9)\n",
    "\n",
    "# Erstellen Correlation-Matrix numerischen Variablen\n",
    "corr = df[['price', \n",
    "           'camera_resolution', \n",
    "           'battery_life', \n",
    "           'storage_size', \n",
    "           'screen_size']].corr().round(2)\n",
    "\n",
    "# Erstellen der Heatmap aus Correlation-Matrix\n",
    "plt.figure(figsize=(7,4))\n",
    "sns.heatmap(corr, \n",
    "            cmap=\"BrBG\", \n",
    "            annot=True)\n",
    "plt.title('Correlation Heatmap Smartphone Data', fontsize=14)\n",
    "plt.xticks(rotation=45)\n",
    "\n",
    "# Anzeigen der Graphik\n",
    "plt.show()"
   ]
  },
  {
   "attachments": {},
   "cell_type": "markdown",
   "id": "ff525b1e",
   "metadata": {},
   "source": [
    "### Jupyter notebook --footer info-- (please always provide this at the end of each notebook)"
   ]
  },
  {
   "cell_type": "code",
   "execution_count": 15,
   "id": "e6cae5b2",
   "metadata": {},
   "outputs": [
    {
     "name": "stdout",
     "output_type": "stream",
     "text": [
      "-----------------------------------\n",
      "NT\n",
      "Windows | 11\n",
      "Datetime: 2024-11-17 12:37:00\n",
      "Python Version: 3.12.4\n",
      "IP Address: 172.27.5.229\n",
      "-----------------------------------\n"
     ]
    }
   ],
   "source": [
    "import os\n",
    "import platform\n",
    "import socket\n",
    "from platform import python_version\n",
    "from datetime import datetime\n",
    "\n",
    "print('-----------------------------------')\n",
    "print(os.name.upper())\n",
    "print(platform.system(), '|', platform.release())\n",
    "print('Datetime:', datetime.now().strftime(\"%Y-%m-%d %H:%M:%S\"))\n",
    "print('Python Version:', python_version())\n",
    "print('IP Address:', socket.gethostbyname(socket.gethostname()))\n",
    "print('-----------------------------------')"
   ]
  }
 ],
 "metadata": {
  "kernelspec": {
   "display_name": "dsenv",
   "language": "python",
   "name": "python3"
  },
  "language_info": {
   "codemirror_mode": {
    "name": "ipython",
    "version": 3
   },
   "file_extension": ".py",
   "mimetype": "text/x-python",
   "name": "python",
   "nbconvert_exporter": "python",
   "pygments_lexer": "ipython3",
   "version": "3.12.4"
  }
 },
 "nbformat": 4,
 "nbformat_minor": 5
}
