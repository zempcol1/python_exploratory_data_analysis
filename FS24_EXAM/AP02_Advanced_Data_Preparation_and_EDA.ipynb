{
 "cells": [
  {
   "cell_type": "markdown",
   "id": "4cf56921",
   "metadata": {},
   "source": [
    "# Arbeitspaket (AP) 2: Advanced Data Preparation & Exploratory Data Analysis (EDA)"
   ]
  },
  {
   "cell_type": "markdown",
   "id": "0f7fb22f",
   "metadata": {},
   "source": [
    "### Persönliche Angaben (bitte ergänzen)"
   ]
  },
  {
   "cell_type": "markdown",
   "id": "94d35a25",
   "metadata": {},
   "source": [
    "<table>\n",
    "  <tr>\n",
    "    <td>Vorname:</td>\n",
    "    <td></td>\n",
    "  </tr>\n",
    "  <tr>\n",
    "    <td>Nachname:</td>\n",
    "    <td></td>\n",
    "  </tr>\n",
    "  <tr>\n",
    "    <td>Immatrikulationsnummer:</td>\n",
    "    <td></td>\n",
    "  </tr>\n",
    "  <tr>\n",
    "    <td>Modul:</td>\n",
    "    <td>Data Science</td>\n",
    "  </tr>\n",
    "  <tr>\n",
    "    <td>Prüfungsdatum / Raum / Zeit:</td>\n",
    "    <td>11.11.2024 / Raum: SF O3.54 / 8:00 – 11:45</td>\n",
    "  </tr>\n",
    "  <tr>\n",
    "    <td>Erlaubte Hilfsmittel:</td>\n",
    "    <td>w.MA.XX.DS.24HS (Data Science)<br>Open Book, Eigener Computer, Internet-Zugang</td>\n",
    "  </tr>\n",
    "  <tr>\n",
    "  <td>Nicht erlaubt:</td>\n",
    "  <td>Nicht erlaubt ist der Einsatz beliebiger Formen von generativer KI (z.B. Copilot, ChatGPT) <br> sowie beliebige Formen von Kommunikation oder Kollaboration mit anderen Menschen.</td>\n",
    "</tr>\n",
    "</table>"
   ]
  },
  {
   "cell_type": "markdown",
   "id": "61847f62",
   "metadata": {},
   "source": [
    "## Bewertungskriterien\n",
    "\n",
    "### <b style=\"color: gray;\">(max. erreichbare Punkte: 48)</b>\n",
    "\n",
    "<table>\n",
    "  <thead>\n",
    "    <tr>\n",
    "      <th>Kategorie</th>\n",
    "      <th>Beschreibung</th>\n",
    "      <th>Punkteverteilung</th>\n",
    "    </tr>\n",
    "  </thead>\n",
    "  <tbody>\n",
    "    <tr>\n",
    "      <td>Code nicht lauffähig oder Ergebnisse nicht sinnvoll</td>\n",
    "      <td>Der Code enthält Fehler, die verhindern, dass er ausgeführt werden kann (z.B. Syntaxfehler) oder es werden Ergebnisse ausgegeben, welche nicht zur Fragestellung passen.</td>\n",
    "      <td>0 Punkte</td>\n",
    "    </tr>\n",
    "    <tr>\n",
    "      <td>Code lauffähig, aber mit gravierenden Mängeln</td>\n",
    "      <td>Der Code läuft, aber die Ergebnisse sind aufgrund wesentlicher Fehler unvollständig (z.B. fehlerhaftes Erstellen von Subsets der Daten). Nur geringer Fortschritt erkennbar.</td>\n",
    "      <td>25% der max. erreichbaren Punkte</td>\n",
    "    </tr>\n",
    "    <tr>\n",
    "      <td>Code lauffähig, aber mit mittleren Mängeln</td>\n",
    "      <td>Der Code läuft und liefert teilweise korrekte Ergebnisse, aber es gibt grössere Fehler (z.B. Datenvisualisierungen entsprechen nicht den Vorgaben gemäss Fragestellung). Die Ergebnisse sind nachvollziehbar, aber unvollständig oder ungenau.</td>\n",
    "      <td>50% der max. erreichbaren Punkte</td>\n",
    "    </tr>\n",
    "    <tr>\n",
    "      <td>Code lauffähig, aber mit minimalen Mängeln</td>\n",
    "      <td>Der Code läuft und liefert ein weitgehend korrektes Ergebnis, aber kleinere Fehler (z.B. Achsenbeschriftung oder Titel in Graphik fehlt) beeinträchtigen die Vollständigkeit des Ergebnisses.</td>\n",
    "      <td>75% der max. erreichbaren Punkte</td>\n",
    "    </tr>\n",
    "    <tr>\n",
    "      <td>Code lauffähig und korrekt</td>\n",
    "      <td>Der Code läuft einwandfrei und liefert das korrekte Ergebnis ohne Mängel.</td>\n",
    "      <td>100% der max. erreichbaren Punkte</td>\n",
    "    </tr>\n",
    "  </tbody>\n",
    "</table>\n"
   ]
  },
  {
   "cell_type": "markdown",
   "id": "9b8df3dd",
   "metadata": {},
   "source": [
    "## Python Libraries und Settings"
   ]
  },
  {
   "cell_type": "code",
   "execution_count": null,
   "id": "b027d889",
   "metadata": {},
   "outputs": [],
   "source": [
    "# Libraries\n",
    "import os\n",
    "import re\n",
    "import random\n",
    "import sqlite3\n",
    "import pandas as pd\n",
    "import numpy as np\n",
    "import seaborn as sns\n",
    "import matplotlib.pyplot as plt\n",
    "import statsmodels.api as sm\n",
    "from datetime import datetime, timedelta\n",
    "from sqlalchemy import create_engine, text\n",
    "\n",
    "# seaborn graphics settings\n",
    "sns.set_theme(color_codes=True)\n",
    "\n",
    "# Ignore warnings\n",
    "import warnings\n",
    "warnings.filterwarnings(\"ignore\")\n",
    "\n",
    "# Show current working directory\n",
    "print(os.getcwd())"
   ]
  },
  {
   "cell_type": "markdown",
   "id": "aac9011e",
   "metadata": {},
   "source": [
    "## <b>Vorbereitung (Dieser Teil wird <u>nicht</u> bewertet!)</b>"
   ]
  },
  {
   "cell_type": "markdown",
   "id": "2e253f40",
   "metadata": {},
   "source": [
    "#### <b>1.) Starten Sie eine GitHub Codespaces Instanz auf Basis Ihres Forks des folgenden GitHub Repositories:</b>\n",
    "\n",
    "##### GitHub-Repository: https://github.com/mario-gellrich-zhaw/python_exploratory_data_analysis\n"
   ]
  },
  {
   "cell_type": "markdown",
   "id": "e5c27b72",
   "metadata": {},
   "source": [
    "## <b>Aufgaben (Dieser Teil wird bewertet!)</b>\n",
    "<b style=\"color:blue;\">Hinweise zu den folgenden Aufgabenstellungen:</b>\n",
    "<ul style=\"color:blue;\">\n",
    "  <li>Beachten Sie auch die zu jeder Aufgabenstellung zugehörenden Details zu Aufgabenstellung.</li>\n",
    "  <li>Lösen Sie jede Aufgabe mit Hilfe von Python Code. Integrieren Sie den Python Code in die Code-Zellen der jeweiligen Aufgabe.</li>\n",
    "  <li>Stellen Sie die Lösung(en) jeder Aufgabe ganz oder in Teilen (z.B. erste 5 Zeilen) eines DataFrames im Jupyter Notebook dar.</li>\n",
    "  <li>Stellen Sie sämtliche von Ihnen erstellte Graphiken im Jupyter Notebook dar.</li>\n",
    "</ul>"
   ]
  },
  {
   "cell_type": "markdown",
   "id": "6033f466",
   "metadata": {},
   "source": [
    "#### <b>Aufgabe (1): Lesen Sie den Datensatz 'smartphone_data.csv' aus dem Order 'Data' ein, und speichern Sie diesen in einem pandas DataFrame.</b>\n",
    "<b>Details zur Aufgabenstellung:</b>\n",
    "- Zeigen Sie die Dimension des DataFrames (Zeilen und Spalten) im Jupyter Notebook an.\n",
    "- Zeigen Sie die Datentypen sämtlicher Spalten des DataFrames im Jupyter Notebook an.\n",
    "- Zeigen Sie die ersten Zeilen des DataFrames im Jupyter Notebook an.<br><br>\n",
    "\n",
    "- Tipp: Berücksichtigen Sie den Pfad der Ablage der Daten im Ordner Data ('./Data/smartphone_data.csv').\n",
    "\n",
    "<b style=\"color: gray;\">(max. erreichbare Punkte: 4)</b>"
   ]
  },
  {
   "cell_type": "code",
   "execution_count": null,
   "id": "fdfcb555",
   "metadata": {},
   "outputs": [],
   "source": [
    "# Einlesen der Daten 'smartphone_data.csv' aus dem Order 'Data' in ein DataFrame 'df'\n",
    "\n",
    "\n",
    "# Anzeigen der Dimension des DataFrames (Zeilen und Spalten)\n",
    "\n",
    "\n",
    "# Anzeigen der Datentypen sämtlicher Spalten des DataFrames\n",
    "\n",
    "\n",
    "# Anzeigen der ersten 5 Zeilen des DataFrames\n"
   ]
  },
  {
   "cell_type": "markdown",
   "id": "1ecba494",
   "metadata": {},
   "source": [
    "<div style=\"background-color: #F0EAD6;\">\n",
    "\n",
    "#### <b> Hinweis! \n",
    "\n",
    "#### Falls Sie den Datensatz 'smartphone_data.csv' nicht einlesen konnten, verwenden Sie die SQLite DB 'smartphone_data.db' im Order 'Data'.</b>\n",
    "\n",
    "#### <b> Der folgende Python-Code liesst die Daten aus der SQLite DB in ein pandas DataFrame mit dem Namen 'df'.</b>\n",
    "\n",
    "```python\n",
    "# Engine für Datenbankverbindung erstellen\n",
    "engine = create_engine('sqlite:///./Data/smartphone_data.db')\n",
    "\n",
    "# SQL Abfrage\n",
    "df = pd.read_sql_query(\"\"\"SELECT * FROM smartphone_data\"\"\",\n",
    "                          con=engine)\n",
    "\n",
    "# Schliessen der Datenbankverbindung\n",
    "engine.dispose()\n",
    "\n",
    "# Anzeigen des DataFrames (erste 5 Zeilen)\n",
    "df.head()\n",
    "```\n",
    "</div>"
   ]
  },
  {
   "cell_type": "markdown",
   "id": "c31d4887",
   "metadata": {},
   "source": [
    "#### <b>Aufgabe (2): Extrahieren Sie die numerischen Werte der folgenden Variablen, und speichern Sie diese in separaten Variablen im DataFrame ab.</b>\n",
    "<b>Details zur Aufgabenstellung:</b>\n",
    "- Extrahieren Sie die numerischen Werte der folgenden Variablen, und speichern Sie diese in separaten Variablen ab:\n",
    "  - price_raw\n",
    "  - camera_resolution_raw\n",
    "  - battery_life_raw\n",
    "  - storage_size_raw\n",
    "  - screen_size_raw<br>\n",
    "- Benennen Sie die Spalten der neuen Variablen als (in Klammern ist der Datentyp angegeben):\n",
    "  - price (int64)\n",
    "  - camera_resolution (int64)\n",
    "  - battery_life (int64)\n",
    "  - storage_size (int64)\n",
    "  - screen_size (float64)\n",
    "- Stellen Sie ein Subset des DataFrames nur mit den neuen Spalten und den ersten 5 Zeilen im Jupyter Notebook dar.<br><br>\n",
    "- Die folgenden regular expressions sind eine Hilfestellung zum Lösen der Aufgabe:<br>\n",
    "  ```python\n",
    "  \"CHF\\s*(\\d+)\\.-\"\n",
    "  \"(\\d+)\\s*MP\"\n",
    "  \"(\\d+)\\s*hrs\"\n",
    "  \"(\\d+)\\s*GB\"\n",
    "  \"(\\d+\\.\\d+)\\s*IN\"\n",
    "  ```\n",
    "  \n",
    "<b style=\"color: gray;\">(max. erreichbare Punkte: 8)</b>"
   ]
  },
  {
   "cell_type": "code",
   "execution_count": null,
   "id": "97eb6bca",
   "metadata": {},
   "outputs": [],
   "source": [
    "# Extrahieren der numerischen Werte aus 'price_raw' und speichern in separaten Variablen\n"
   ]
  },
  {
   "cell_type": "code",
   "execution_count": null,
   "id": "6d4d7f5b",
   "metadata": {},
   "outputs": [],
   "source": [
    "# Extrahieren der numerischen Werte aus 'camera_resolution_raw' und speichern in separaten Variablen\n"
   ]
  },
  {
   "cell_type": "code",
   "execution_count": null,
   "id": "229d19cb",
   "metadata": {},
   "outputs": [],
   "source": [
    "# Extrahieren der numerischen Werte aus 'battery_life_raw' und speichern in separaten Variablen\n"
   ]
  },
  {
   "cell_type": "code",
   "execution_count": null,
   "id": "06f3b7d0",
   "metadata": {},
   "outputs": [],
   "source": [
    "# Extrahieren der numerischen Werte aus 'storage_size_raw' und speichern in separaten Variablen\n"
   ]
  },
  {
   "cell_type": "code",
   "execution_count": null,
   "id": "b661e5dc",
   "metadata": {},
   "outputs": [],
   "source": [
    "# Extrahieren der numerischen Werte aus 'screen_size_raw' und speichern in separaten Variablen (Tipp: float64 statt int64)\n"
   ]
  },
  {
   "cell_type": "code",
   "execution_count": null,
   "id": "387f8a7a",
   "metadata": {},
   "outputs": [],
   "source": [
    "# Anzeigen Subset des DataFrames nur mit den neuen Variablen und den ersten 5 Zeilen\n"
   ]
  },
  {
   "cell_type": "markdown",
   "id": "acc3fec8",
   "metadata": {},
   "source": [
    "#### <b>Aufgabe (3): Erstellen Sie statistische Kennzahlen zu den numerischen Variablen im DataFrame.</b>\n",
    "<b>Details zur Aufgabenstellung:</b>\n",
    "- Berechnen Sie die statistische Kennzahlen für die Variablen 'price', 'camera_resolution', 'battery_life', 'storage_size', 'screen_size'.\n",
    "- Die statistische Kennzahlen, welche berechnet werden sollen sind (engl. Bezeichnungen): \n",
    "  - Count\n",
    "  - Mean\n",
    "  - Standard Deviation (std)\n",
    "  - Minimum\n",
    "  - 25th Percentile (= 1st Quartile)\n",
    "  - 50th Percentile (= Median)\n",
    "  - 75th Percentile (= 3rd Quartile)\n",
    "  - Maximum\n",
    "  - Skewness\n",
    "- Stellen Sie die berechneten statistische Kennzahlen im Jupyter Notebook dar (es können auch verschiedene Ergebnistabellen angezeigt werden).<br><br>\n",
    "\n",
    "- Tipp: Nicht alle Python - Methoden verwenden automatisch nur die numerischen Variablen. In diesen Fällen muss ein Subset der numerischen Variablen erstellt werden.\n",
    "\n",
    "<b style=\"color: gray;\">(max. erreichbare Punkte: 4)</b>"
   ]
  },
  {
   "cell_type": "code",
   "execution_count": null,
   "id": "149fbe5c",
   "metadata": {},
   "outputs": [],
   "source": [
    "# Einlesen der aufbereiteten Daten (damit alle auf dem gleichen Stand sind)\n",
    "engine = create_engine('sqlite:///./Data/smartphone_data_prepared.db')\n",
    "df = pd.read_sql_query(\"\"\"SELECT * FROM smartphone_data_prepared\"\"\", con=engine)\n",
    "engine.dispose()\n",
    "\n",
    "# Berechnung der statistischen Kennzahlen der numerischen Spalten in 'df'\n",
    "\n",
    "\n",
    "# Separate Berechnung der Skewness der numerischen Spalten\n"
   ]
  },
  {
   "cell_type": "markdown",
   "id": "2b80dc61",
   "metadata": {},
   "source": [
    "#### <b>Aufgabe (4): Erstellen Sie eine Pivot-Tabelle mit den Mittwelwerten der numerischen Variablen pro Hersteller.</b>\n",
    "<b>Details zur Aufgabenstellung:</b>\n",
    "- Die Angabe zum Hersteller finden Sie in der Variable 'make'.\n",
    "- Verwenden Sie die für die Mittelwertsberechnung die Variablen 'price', 'camera_resolution', 'battery_life', 'storage_size', 'screen_size'.\n",
    "- Stellen Sie die Pivot-Tabelle im Jupyter Notebook dar.\n",
    "\n",
    "<b style=\"color: gray;\">(max. erreichbare Punkte: 4)</b>"
   ]
  },
  {
   "cell_type": "code",
   "execution_count": null,
   "id": "077a187d-05be-4c30-a367-a4e1a19d4466",
   "metadata": {},
   "outputs": [],
   "source": [
    "# Erstellen der Pivot-Tabelle\n",
    "\n",
    "\n",
    "# Anzeigen der Pivot-Tabelle\n"
   ]
  },
  {
   "cell_type": "markdown",
   "id": "ba5b3943",
   "metadata": {},
   "source": [
    "#### <b>Aufgabe (5): Erstellen Sie ein Histogramm der Variable 'price'.</b>\n",
    "<b>Details zur Aufgabenstellung: </b>\n",
    "- Setzen Sie die Anzahl der Klassen (engl.: bins) auf den Wert 25.\n",
    "- Beschriften Sie die Achsen des Histogramms, und fügen Sie einen Titel hinzu.\n",
    "- Fügen Sie der Graphik ein Gitternetz (engl.: grid) hinzu.\n",
    "- Zeigen Sie das Histogramm im Jupyter Notebook an. \n",
    "\n",
    "<b style=\"color: gray;\">(max. erreichbare Punkte: 8)</b>"
   ]
  },
  {
   "cell_type": "code",
   "execution_count": null,
   "id": "c2d69f01",
   "metadata": {},
   "outputs": [],
   "source": [
    "# Erstellen, Beschriften und Anzeigen des Histogramms\n"
   ]
  },
  {
   "cell_type": "markdown",
   "id": "08bd20f4",
   "metadata": {},
   "source": [
    "#### <b>Aufgabe (6): Erstellen Sie einen gruppierten Boxplot mit den Preisen pro Hersteller.</b>\n",
    "<b>Details zur Aufgabenstellung: </b>\n",
    "- Verwenden Sie die Python Library seaborn für die Erstellung des gruppieren Boxplots.\n",
    "- Die Angabe zum Hersteller (=Gruppierungsvariable) finden Sie in der Variable 'make'.\n",
    "- Beschriften Sie die Achsen und geben Sie der Graphik einen Titel.\n",
    "- Stellen Sie den gruppierten Boxplot im Jupyter Notebook dar.<br><br>\n",
    "\n",
    "- Tipp: Für die Erstellung des gruppierten Boxplots können Sie Vorlagen aus der seaborn - Hilfe verwenden (vgl. Abschnitt: 'Group by a categorical variable ...'):<br><br>\n",
    "  https://seaborn.pydata.org/generated/seaborn.boxplot.html\n",
    "\n",
    "\n",
    "<b style=\"color: gray;\">(max. erreichbare Punkte: 8)</b>"
   ]
  },
  {
   "cell_type": "code",
   "execution_count": null,
   "id": "504ca399",
   "metadata": {},
   "outputs": [],
   "source": [
    "# Erstellen, Beschriften und Anzeigen des gruppierten Boxplots\n"
   ]
  },
  {
   "cell_type": "markdown",
   "id": "d67e3225",
   "metadata": {},
   "source": [
    "#### <b>Aufgabe (7): Erstellen Sie ein Barchart mit der Anzahl Smartphones pro Hersteller.</b>\n",
    "<b>Details zur Aufgabenstellung:</b>\n",
    "- Ergänzen Sie den Python Code unten dort wo notwendig.\n",
    "- Die Angabe zum Hersteller finden Sie in der Variable 'make'.\n",
    "- Im Barchart müssen die Hersteller auf der vertikalen und die Anzahl Smartphones auf der horizontalen Achse abgebildet sein.\n",
    "- Im Barchart müssen die Anzahl Smartphones pro Hersteller der Grösse nach absteigend sortiert sein.\n",
    "- Beschriften Sie die Achsen des Barcharts und geben Sie dem Barchart einen Titel.<br><br>\n",
    "\n",
    "<b style=\"color: gray;\">(max. erreichbare Punkte: 8)</b>"
   ]
  },
  {
   "cell_type": "code",
   "execution_count": null,
   "id": "909478da",
   "metadata": {},
   "outputs": [],
   "source": [
    "# Gruppierung der Daten nach 'make' und Berechnung der Anzahl Smartphones\n",
    "df_bar = df['make'].value_counts().sort_values(ascending=True)\n",
    "\n",
    "# Zusammenstellen der Werte für den Barchart\n",
    "napart = list(df_bar.values)\n",
    "index = list(df_bar.index.values)\n",
    "y_pos = np.arange(len(index))\n",
    "\n",
    "# Erstellen des Barcharts\n",
    "\n",
    "\n",
    "# Anzeigen der Graphik\n"
   ]
  },
  {
   "cell_type": "markdown",
   "id": "51ec75c6",
   "metadata": {},
   "source": [
    "#### <b>Aufgabe (8): Erstellen Sie eine Correlation-Heatmap auf der Basis der numerischen Variablen.</b>\n",
    "<b>Details zur Aufgabenstellung:</b>\n",
    "- Verwenden Sie die Variablen 'price', 'camera_resolution', 'battery_life', 'storage_size', 'screen_size'.\n",
    "- Berechnen Sie auf zwei Nachkommastellen gerundete Korrelationskoeffizienten als Basis für die Correlation-Matrix und -Heatmap.\n",
    "- Stellen Sie die Correlation-Matrix im Jupyter Notebook dar.\n",
    "- Stellen Sie die Correlation-Heatmap im Jupyter Notebook dar.\n",
    "\n",
    "<b style=\"color: gray;\">(max. erreichbare Punkte: 8)</b>"
   ]
  },
  {
   "cell_type": "code",
   "execution_count": null,
   "id": "7592f8ad",
   "metadata": {},
   "outputs": [],
   "source": [
    "# Erstellen Correlation-Matrix numerischen Variablen\n",
    "\n",
    "\n",
    "# Erstellen der Heatmap aus Correlation-Matrix\n",
    "\n",
    "\n",
    "# Anzeigen der Graphik"
   ]
  },
  {
   "attachments": {},
   "cell_type": "markdown",
   "id": "ff525b1e",
   "metadata": {},
   "source": [
    "### Jupyter notebook --footer info-- (please always provide this at the end of each notebook)"
   ]
  },
  {
   "cell_type": "code",
   "execution_count": null,
   "id": "e6cae5b2",
   "metadata": {},
   "outputs": [],
   "source": [
    "import os\n",
    "import platform\n",
    "import socket\n",
    "from platform import python_version\n",
    "from datetime import datetime\n",
    "\n",
    "print('-----------------------------------')\n",
    "print(os.name.upper())\n",
    "print(platform.system(), '|', platform.release())\n",
    "print('Datetime:', datetime.now().strftime(\"%Y-%m-%d %H:%M:%S\"))\n",
    "print('Python Version:', python_version())\n",
    "print('IP Address:', socket.gethostbyname(socket.gethostname()))\n",
    "print('-----------------------------------')"
   ]
  }
 ],
 "metadata": {
  "kernelspec": {
   "display_name": "dsenv",
   "language": "python",
   "name": "python3"
  },
  "language_info": {
   "codemirror_mode": {
    "name": "ipython",
    "version": 3
   },
   "file_extension": ".py",
   "mimetype": "text/x-python",
   "name": "python",
   "nbconvert_exporter": "python",
   "pygments_lexer": "ipython3",
   "version": "3.12.4"
  }
 },
 "nbformat": 4,
 "nbformat_minor": 5
}
